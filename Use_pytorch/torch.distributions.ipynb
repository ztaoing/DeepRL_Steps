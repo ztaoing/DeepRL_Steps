{
 "cells": [
  {
   "cell_type": "code",
   "execution_count": 3,
   "id": "e42fd9d3",
   "metadata": {
    "ExecuteTime": {
     "end_time": "2025-08-20T11:16:58.662417Z",
     "start_time": "2025-08-20T11:16:58.647232Z"
    }
   },
   "outputs": [
    {
     "name": "stdout",
     "output_type": "stream",
     "text": [
      "采样的动作索引: 2\n",
      "采样动作的对数概率: -1.2039728164672852\n",
      "分布的熵: 1.2798542976379395\n"
     ]
    }
   ],
   "source": [
    "import torch\n",
    "import torch.distributions as dist\n",
    "\n",
    "# 定义一个分类分布\n",
    "probs = torch.tensor([0.1, 0.2, 0.3, 0.4])\n",
    "categorical_dist = dist.Categorical(probs=probs)\n",
    "\n",
    "# 采样一个动作\n",
    "action = categorical_dist.sample()\n",
    "print(\"采样的动作索引:\", action.item())\n",
    "\n",
    "# 计算给定动作的对数概率\n",
    "log_prob = categorical_dist.log_prob(action)\n",
    "print(\"采样动作的对数概率:\", log_prob.item())\n",
    "\n",
    "# 计算熵\n",
    "entropy = categorical_dist.entropy()\n",
    "print(\"分布的熵:\", entropy.item())"
   ]
  },
  {
   "cell_type": "code",
   "execution_count": 2,
   "id": "b1365bf3",
   "metadata": {
    "ExecuteTime": {
     "end_time": "2025-08-20T11:16:33.829642Z",
     "start_time": "2025-08-20T11:16:33.809486Z"
    }
   },
   "outputs": [
    {
     "name": "stdout",
     "output_type": "stream",
     "text": [
      "采样的动作索引: 3\n",
      "采样动作的对数概率: -0.4401897192001343\n",
      "分布的熵: 0.9475369453430176\n"
     ]
    }
   ],
   "source": [
    "# 定义一个分类分布，使用对数概率\n",
    "logits = torch.tensor([-2.0, -1.0, 0.0, 1.0])\n",
    "categorical_dist = dist.Categorical(logits=logits)\n",
    "\n",
    "# 采样一个动作\n",
    "action = categorical_dist.sample()\n",
    "print(\"采样的动作索引:\", action.item())\n",
    "\n",
    "# 计算给定动作的对数概率\n",
    "log_prob = categorical_dist.log_prob(action)\n",
    "print(\"采样动作的对数概率:\", log_prob.item())\n",
    "\n",
    "# 计算熵\n",
    "entropy = categorical_dist.entropy()\n",
    "print(\"分布的熵:\", entropy.item())"
   ]
  },
  {
   "cell_type": "code",
   "execution_count": null,
   "id": "17d4f129",
   "metadata": {},
   "outputs": [],
   "source": []
  }
 ],
 "metadata": {
  "kernelspec": {
   "display_name": "gym3.10.0",
   "language": "python",
   "name": "gym3.10.0"
  },
  "language_info": {
   "codemirror_mode": {
    "name": "ipython",
    "version": 3
   },
   "file_extension": ".py",
   "mimetype": "text/x-python",
   "name": "python",
   "nbconvert_exporter": "python",
   "pygments_lexer": "ipython3",
   "version": "3.10.0"
  },
  "toc": {
   "base_numbering": 1,
   "nav_menu": {},
   "number_sections": true,
   "sideBar": true,
   "skip_h1_title": false,
   "title_cell": "Table of Contents",
   "title_sidebar": "Contents",
   "toc_cell": false,
   "toc_position": {},
   "toc_section_display": true,
   "toc_window_display": false
  },
  "varInspector": {
   "cols": {
    "lenName": 16,
    "lenType": 16,
    "lenVar": 40
   },
   "kernels_config": {
    "python": {
     "delete_cmd_postfix": "",
     "delete_cmd_prefix": "del ",
     "library": "var_list.py",
     "varRefreshCmd": "print(var_dic_list())"
    },
    "r": {
     "delete_cmd_postfix": ") ",
     "delete_cmd_prefix": "rm(",
     "library": "var_list.r",
     "varRefreshCmd": "cat(var_dic_list()) "
    }
   },
   "types_to_exclude": [
    "module",
    "function",
    "builtin_function_or_method",
    "instance",
    "_Feature"
   ],
   "window_display": false
  }
 },
 "nbformat": 4,
 "nbformat_minor": 5
}
